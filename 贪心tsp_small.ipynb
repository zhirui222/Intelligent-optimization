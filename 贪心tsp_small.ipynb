{
 "cells": [
  {
   "cell_type": "code",
   "execution_count": 10,
   "id": "90327440",
   "metadata": {},
   "outputs": [
    {
     "name": "stdout",
     "output_type": "stream",
     "text": [
      "[0, 1, 1, 5, 8]\n",
      "[1, 0, 6, 7, 9]\n",
      "[1, 6, 0, 4, 2]\n",
      "[8, 9, 2, 3, 0]\n",
      "[5, 7, 4, 0, 3]\n",
      "最小总旅费为： 17\n",
      "路 径： 1->2->3->5->4->1\n"
     ]
    }
   ],
   "source": [
    "def find_path(j):\n",
    "    path_vertexs.append(j)  #把该节点标记为已走过    \n",
    "    row=c[j]  \n",
    "    print(row)\n",
    "    #创建copy_row,删除row中已走过的顶点,防止直接在row上操作.\n",
    "    copy_row=[value for value in row]\n",
    "    walked_vertex=[]\n",
    "    for i in path_vertexs:#已走过的顶点\n",
    "        walked_vertex.append(i)\n",
    "    for vertex in walked_vertex:\n",
    "        copy_row[vertex]=1000\n",
    "    #寻找row中的未遍历过的最短边\n",
    "    if len(path_vertexs)<5:\n",
    "        min_e=min(copy_row)\n",
    "        j=row.index(min_e)\n",
    "        path_length.append(min_e)\n",
    "        find_path(j)\n",
    "    else:\n",
    "        min_e=c[j][0]\n",
    "        path_length.append(min_e)\n",
    "        path_vertexs.append(0)\n",
    "    return path_vertexs,path_length\n",
    "\n",
    "def print_path(vertexs,lengths):\n",
    "    path=''    \n",
    "    vertexs=[vertex+1 for vertex in vertexs]\n",
    "    for i,vertex in enumerate(vertexs):\n",
    "        path+=str(vertex)\n",
    "        if i==5:\n",
    "            break\n",
    "        path+='->'\n",
    "    print(\"最小总旅费为：\",sum(lengths))\n",
    "    print(\"路 径：\",path)\n",
    "\n",
    "if __name__ == \"__main__\":\n",
    "    c=[[0,1,1,5,8],\n",
    "    [1,0,6,7,9],\n",
    "    [1,6,0,4,2],\n",
    "    [5,7,4,0,3],\n",
    "    [8,9,2,3,0]]\n",
    "    path_length=[]\n",
    "    path_vertexs=[]   \n",
    "    path_vertexs,path_length=find_path(0)\n",
    "    print_path(path_vertexs,path_length)"
   ]
  },
  {
   "cell_type": "code",
   "execution_count": null,
   "id": "be22b6b0",
   "metadata": {},
   "outputs": [],
   "source": []
  }
 ],
 "metadata": {
  "kernelspec": {
   "display_name": "Python 3 (ipykernel)",
   "language": "python",
   "name": "python3"
  },
  "language_info": {
   "codemirror_mode": {
    "name": "ipython",
    "version": 3
   },
   "file_extension": ".py",
   "mimetype": "text/x-python",
   "name": "python",
   "nbconvert_exporter": "python",
   "pygments_lexer": "ipython3",
   "version": "3.10.0"
  }
 },
 "nbformat": 4,
 "nbformat_minor": 5
}
