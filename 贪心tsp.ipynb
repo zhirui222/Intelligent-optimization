{
 "cells": [
  {
   "cell_type": "code",
   "execution_count": 6,
   "id": "0a153892",
   "metadata": {},
   "outputs": [
    {
     "name": "stdout",
     "output_type": "stream",
     "text": [
      "[1, 11, 10, 14, 16, 8, 17, 12, 13, 4, 6, 5, 15, 19, 7, 2, 3, 9, 0, 18, 1] [2, 2, 1, 4, 2, 2, 1, 3, 3, 1, 1, 2, 4, 2, 1, 2, 7, 6, 6, 17]\n"
     ]
    }
   ],
   "source": [
    "from numpy import random\n",
    "def find_path(j):\n",
    "    path_vertexs.append(j)                  #把该节点标记为已走过    \n",
    "    row=c[j] \n",
    "    copy_row=[value for value in row]       #创建copy_row,防止直接在row上操作.\n",
    "    walked_vertex=[]\n",
    "    for k in path_vertexs:                  #已走过的顶点\n",
    "        walked_vertex.append(k)\n",
    "    for vertex in walked_vertex:\n",
    "        copy_row[vertex]=1000               #将走过的节点变为极大值\n",
    "    if len(path_vertexs)<20:                #寻找row中的未遍历过的最短边\n",
    "        min_e=min(copy_row) \n",
    "        j=copy_row.index(min_e)             #找到最短边对应的点\n",
    "        path_length.append(min_e)\n",
    "        find_path(j)\n",
    "    else:\n",
    "        min_e=c[j][1]                       #将最后一个顶点和第一个顶点连起来\n",
    "        path_length.append(min_e)\n",
    "        path_vertexs.append(1)\n",
    "    return path_vertexs,path_length\n",
    "\n",
    "def print_path(vertexs,lengths):\n",
    "    path=''    \n",
    "    vertexs=[vertex+1 for vertex in vertexs]\n",
    "    for i,vertex in enumerate(vertexs):\n",
    "        path+=str(vertex)\n",
    "        if i==20:\n",
    "            break\n",
    "        path+='->'\n",
    "    print(\"最小总旅费为：\",sum(lengths))\n",
    "    print(\"路 径：\",path)\n",
    "\n",
    "if __name__ == \"__main__\":\n",
    "    \n",
    "    c=[   [ 0,  5, 19, 13,  6,  3, 15,  8, 17,  6, 15, 12,  8,  5,  6, 14, 19,13,  6, 15]   ,   \n",
    "          [ 5,  0, 13, 17, 13,  9,  5,  8, 19,  6,  7,  2, 17,  7, 15, 14, 11,16, 17, 17]   ,    \n",
    "          [19, 13,  0,  2, 11,  3,  4,  1, 17,  8,  6, 12, 11,  9, 11, 19,  7,13,  2, 16]   ,   \n",
    "       [13, 17,  2,  0,  3,  8, 19,  5,  6,  7,  5,  8,  9, 11, 12, 19, 17, 6, 15,  3]   , \n",
    "       [ 6, 13, 11,  3,  0, 18,  1,  5, 14,  9, 18, 18,  5,  3, 17,  2, 19, 6, 19, 15]   ,   \n",
    "       [ 3,  9,  3,  8, 18,  0,  1, 10, 15, 15, 10,  3, 10, 17, 16,  2, 19, 8,  7,  5]   ,    \n",
    "       [15,  5,  4, 19,  1,  1,  0,  8,  5, 12,  3, 10, 10,  7, 18, 18,  7, 14,  2,  5]   ,    \n",
    "       [ 8,  8,  1,  5,  5, 10,  8,  0, 19,  9,  7,  6,  4, 15, 17,  6, 13, 15,  20,  2]   ,    \n",
    "       [17, 19, 17,  6, 14, 15,  5, 19,  0,  6, 11, 14, 12,  5, 15,  7,  2, 2, 14, 18]   ,    \n",
    "       [ 6,  6,  8,  7,  9, 15, 12,  9,  6,  0, 13, 12, 14, 16, 10, 17,  6, 4, 11,  2]   ,    \n",
    "       [15,  7,  6,  5, 18, 10,  3,  7, 11, 13,  0,  2, 17, 15,  1, 11,  7,18,  2, 14]   ,   \n",
    "       [12,  2, 12,  8, 18,  3, 10,  6, 14, 12,  2,  0,  5, 12, 18, 16,  9,16,  6,  5]   ,   \n",
    "       [ 8, 17, 11,  9,  5, 10, 10,  4, 12, 14, 17,  5,  0,  3, 18,  9,  6, 1, 12, 12]   ,   \n",
    "       [ 5,  7,  9, 11,  3, 17,  7, 15,  5, 16, 15, 12,  3,  0, 16, 16,  6, 14, 16, 15]   ,   \n",
    "       [ 6, 15, 11, 12, 17, 16, 18, 17, 15, 10,  1, 18, 18, 16,  0, 16,  4,  6,  8, 11]   ,    \n",
    "       [14, 14, 19, 19,  2,  2, 18,  6,  7, 17, 11, 16,  9, 16, 16,  0, 17, 17,  7,  4]   ,   \n",
    "       [19, 11,  7, 17, 19, 19,  7, 13,  2,  6,  7,  9,  6,  6,  4, 17,  0, 15,  4, 15]   ,  \n",
    "       [13, 16, 13,  6,  6,  8, 14,  15,  2,  4, 18, 16,  1, 14,  6, 17, 15,  0,  9, 12]   ,    \n",
    "       [ 6, 17,  2, 15, 19,  7,  2,  20, 14, 11,  2,  6, 12, 16,  8,  7,  4,  9,  0, 15]   ,   \n",
    "       [15, 17, 16,  3, 15,  5,  5,  2, 18,  2, 14,  5, 12, 15, 11,  4, 15, 12, 15,  0]]  \n",
    "\n",
    "path_length=[]\n",
    "path_vertexs=[]\n",
    "path_vertexs,path_length=find_path(1)\n",
    "print(path_vertexs, path_length)\n",
    "        "
   ]
  },
  {
   "cell_type": "code",
   "execution_count": null,
   "id": "744ca8cd",
   "metadata": {},
   "outputs": [],
   "source": []
  },
  {
   "cell_type": "code",
   "execution_count": null,
   "id": "da08b9b2",
   "metadata": {},
   "outputs": [],
   "source": []
  },
  {
   "cell_type": "code",
   "execution_count": null,
   "id": "eb39c6f1",
   "metadata": {},
   "outputs": [],
   "source": []
  },
  {
   "cell_type": "code",
   "execution_count": null,
   "id": "bc660976",
   "metadata": {},
   "outputs": [],
   "source": []
  }
 ],
 "metadata": {
  "kernelspec": {
   "display_name": "Python 3 (ipykernel)",
   "language": "python",
   "name": "python3"
  },
  "language_info": {
   "codemirror_mode": {
    "name": "ipython",
    "version": 3
   },
   "file_extension": ".py",
   "mimetype": "text/x-python",
   "name": "python",
   "nbconvert_exporter": "python",
   "pygments_lexer": "ipython3",
   "version": "3.10.0"
  }
 },
 "nbformat": 4,
 "nbformat_minor": 5
}
