{
 "cells": [
  {
   "cell_type": "code",
   "execution_count": 97,
   "id": "2e537771",
   "metadata": {},
   "outputs": [],
   "source": [
    "import numpy as np\n",
    "import matplotlib.pyplot as plt"
   ]
  },
  {
   "cell_type": "code",
   "execution_count": 150,
   "id": "eb6ed9db",
   "metadata": {},
   "outputs": [],
   "source": [
    "weight=[95,75,23,73,50,22,6,57,89,98]\n",
    "value=[89,59,19,43,100,72,44,16,7,64]\n",
    "l=len(value)\n",
    "n=30                                    #粒子群个数\n",
    "c1=2.0                                  #自学习因子\n",
    "c2=2.0                                  #社会因子\n",
    "vmax=4                                  #最大速度\n",
    "vmin=-4                                 #最小速度\n",
    "group=np.random.randint(0,2,(n,l))      #随机生成粒子\n",
    "P=[[0]*l]*n                             #个体最优矩阵\n",
    "V=[[1.0]*l]*n                             #速度矩阵     \n",
    "P_best=[0]*l                            #全局最优矩阵\n",
    "t=0                                     #t为当前的迭代次数\n",
    "m=200                                   #最大迭代次数\n",
    "volume=300\n",
    "wmax=0.9\n",
    "wmin=0.4\n",
    "gb=[]                            #画图\n",
    "\n",
    "def tweight(a,weight):\n",
    "    fit_w=0\n",
    "    for i in range(l):\n",
    "        fit_w+=a[i]*weight[i]\n",
    "    return fit_w\n",
    "\n",
    "def overweight(group):                       #拿哪个物品\n",
    "    random=np.random.randint(0,10)\n",
    "    group[random]=0\n",
    "    \n",
    "def takeout(group):\n",
    "    for i in range(n):                          #将超重的拿出来\n",
    "        while tweight(group[i],weight)>volume:\n",
    "            overweight(group[i]) \n",
    "    \n",
    "def function(v):\n",
    "    s=0\n",
    "    s=1/(1+np.exp(-v))\n",
    "    return s\n",
    "\n",
    "def compare(s,x):\n",
    "    pro=np.random.rand()\n",
    "    if s>pro:\n",
    "        x=1\n",
    "    else:\n",
    "        x=0\n",
    "    return x\n",
    "        \n",
    "def v_update(v,w,c1,c2,p1,p2,x):\n",
    "    v=w*v+c1*np.random.rand()*(p1-x)+c2*np.random.rand()*(p2-x)\n",
    "    return v\n",
    "    \n",
    "def w_update(wmax,wmin,t):\n",
    "    w=wmax-(wmax-wmin)/m*t\n",
    "    return w\n",
    "    \n",
    "    \n",
    "def funvalue(a,value):          #适应度函数\n",
    "    fit_v=0\n",
    "    for i in range(l):\n",
    "        fit_v+=a[i]*value[i]\n",
    "    return fit_v\n",
    "\n",
    "def vlimit(vmax,vmin,v):\n",
    "    if v>vmax:\n",
    "        v=vmax\n",
    "    if v<vmin:\n",
    "        v=vmin\n",
    "    return v\n",
    "\n",
    "def printthing(maxfit,maxnum):\n",
    "    thing=''\n",
    "    print('物品的总价值为:',maxfit)\n",
    "    for i in range(l):\n",
    "        if maxnum[i]==1:\n",
    "            thing+='第'\n",
    "            thing+=str(i+1)\n",
    "            thing+='件,'\n",
    "    print('挑选的物品为:',thing)"
   ]
  },
  {
   "cell_type": "code",
   "execution_count": 153,
   "id": "645713dd",
   "metadata": {},
   "outputs": [
    {
     "name": "stdout",
     "output_type": "stream",
     "text": [
      "物品的总价值为: 336\n",
      "挑选的物品为: 第1件,第2件,第5件,第6件,第8件,\n",
      "物品的总价值为: 339\n",
      "挑选的物品为: 第1件,第2件,第3件,第5件,第6件,\n",
      "物品的总价值为: 383\n",
      "挑选的物品为: 第1件,第2件,第3件,第5件,第6件,第7件,\n",
      "物品的总价值为: 388\n",
      "挑选的物品为: 第1件,第3件,第5件,第6件,第7件,第10件,\n",
      "物品的总价值为: 388\n",
      "挑选的物品为: 第1件,第2件,第4件,第7件,\n"
     ]
    }
   ],
   "source": [
    "takeout(group)\n",
    "P=group[:]\n",
    "g=[0]*l\n",
    "gbest=0\n",
    "for i in range(n):\n",
    "    if gbest<funvalue(P[i],value):\n",
    "        gbest=funvalue(P[i],value)\n",
    "        g=P[i,:]\n",
    "for i in range(m):\n",
    "    t+=1\n",
    "    w=w_update(wmax,wmin,t)\n",
    "    for j in range(n):\n",
    "        for k in range(l):\n",
    "            V[j][k]=v_update(V[j][k],w,c1,c2,P[j][k],g[k],group[j][k])\n",
    "            V[j][k]=vlimit(vmax,vmin,V[j][k])\n",
    "            s=function(V[j][k])\n",
    "            group[j][k]=compare(s,group[j][k])\n",
    "        takeout(group)\n",
    "        if funvalue(group[j],value)>funvalue(P[j],value):\n",
    "            P[j]=group[j]\n",
    "        if gbest<funvalue(P[j],value):\n",
    "            gbest=funvalue(P[j],value)\n",
    "            g=P[j,:]\n",
    "            printthing(gbest,g)  \n",
    "    gb.append(gbest)\n",
    "printthing(gbest,g)    "
   ]
  },
  {
   "cell_type": "code",
   "execution_count": 152,
   "id": "31aabea3",
   "metadata": {},
   "outputs": [
    {
     "data": {
      "image/png": "[encoded data removed]",
      "text/plain": [
       "<Figure size 432x288 with 1 Axes>"
      ]
     },
     "metadata": {
      "needs_background": "light"
     },
     "output_type": "display_data"
    }
   ],
   "source": [
    "plt.plot(gb)\n",
    "plt.show()"
   ]
  },
  {
   "cell_type": "code",
   "execution_count": null,
   "id": "90156378",
   "metadata": {},
   "outputs": [],
   "source": []
  }
 ],
 "metadata": {
  "kernelspec": {
   "display_name": "Python 3 (ipykernel)",
   "language": "python",
   "name": "python3"
  },
  "language_info": {
   "codemirror_mode": {
    "name": "ipython",
    "version": 3
   },
   "file_extension": ".py",
   "mimetype": "text/x-python",
   "name": "python",
   "nbconvert_exporter": "python",
   "pygments_lexer": "ipython3",
   "version": "3.9.1"
  }
 },
 "nbformat": 4,
 "nbformat_minor": 5
}
