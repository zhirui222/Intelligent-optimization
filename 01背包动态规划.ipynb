{
 "cells": [
  {
   "cell_type": "code",
   "execution_count": 2,
   "id": "1434a1f7",
   "metadata": {},
   "outputs": [
    {
     "name": "stdout",
     "output_type": "stream",
     "text": [
      "21\n",
      "挑选物品为 2\n",
      "挑选物品为 3\n",
      "挑选物品为 4\n"
     ]
    }
   ],
   "source": [
    "def package(i,j,a):                                                     #定义一个背包函数，j为背包重量，a为背包放入数组\n",
    "    n=len(d)                                                            #n是物品数量\n",
    "    v=0                                                                 #v为目前背包价值\n",
    "    w=d[i-1].weight\n",
    "    value=d[i-1].value\n",
    "    if(i<n):\n",
    "        if(j>=w):\n",
    "            v=max(package(i+1,j,a),package(i+1,j-w,a)+value)\n",
    "            if (package(i+1,j-w,a)+value>package(i+1,j,a)):\n",
    "                a[i]=1                                                  #计入放入物品\n",
    "        else:\n",
    "            package(i+1,j,a)\n",
    "    else:\n",
    "        if(j>=w):\n",
    "            v+=value\n",
    "        else:\n",
    "            v=0\n",
    "    return v\n",
    "    \n",
    "class Thing:                                                            #定义了一个类\n",
    "    def __init__(self,weight,value):\n",
    "        self.weight=weight                                              #物品的重量\n",
    "        self.value=value                                                #物品的价值\n",
    "物品1=Thing(8,9)                                                        #输入物品及其参数\n",
    "物品2=Thing(4,7) \n",
    "物品3=Thing(3,6)\n",
    "物品4=Thing(2,8)\n",
    "物品5=Thing(6,10)\n",
    "d=[物品1,物品2,物品3,物品4,物品5]\n",
    "\n",
    "n=5\n",
    "\n",
    "\n",
    "if __name__ == '__main__':                                              \n",
    "    a=[0,0,0,0,0]                                                        #创建a判别是否放入背包，0为没放入，1为放入\n",
    "    print(package(1,10,a))\n",
    "    for k in range(5):\n",
    "        if a[k]==1:\n",
    "            print(\"挑选物品为\",k)"
   ]
  },
  {
   "cell_type": "code",
   "execution_count": null,
   "id": "466cf0b2",
   "metadata": {},
   "outputs": [],
   "source": []
  },
  {
   "cell_type": "code",
   "execution_count": null,
   "id": "055f87be",
   "metadata": {},
   "outputs": [],
   "source": []
  }
 ],
 "metadata": {
  "kernelspec": {
   "display_name": "Python 3 (ipykernel)",
   "language": "python",
   "name": "python3"
  },
  "language_info": {
   "codemirror_mode": {
    "name": "ipython",
    "version": 3
   },
   "file_extension": ".py",
   "mimetype": "text/x-python",
   "name": "python",
   "nbconvert_exporter": "python",
   "pygments_lexer": "ipython3",
   "version": "3.10.0"
  }
 },
 "nbformat": 4,
 "nbformat_minor": 5
}
